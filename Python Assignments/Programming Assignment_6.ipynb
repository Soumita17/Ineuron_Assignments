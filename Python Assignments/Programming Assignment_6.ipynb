{
 "cells": [
  {
   "cell_type": "markdown",
   "id": "84a41a9f",
   "metadata": {},
   "source": [
    "# Programming Basic Assignment 6"
   ]
  },
  {
   "cell_type": "markdown",
   "id": "a4b40558",
   "metadata": {},
   "source": [
    "### 1. Write a Python Program to Display Fibonacci Sequence Using Recursion?"
   ]
  },
  {
   "cell_type": "code",
   "execution_count": 1,
   "id": "b6975f7a",
   "metadata": {},
   "outputs": [
    {
     "name": "stdout",
     "output_type": "stream",
     "text": [
      "Enter number of terms:10\n",
      "Fibonacci sequence:\n",
      "0\n",
      "1\n",
      "1\n",
      "2\n",
      "3\n",
      "5\n",
      "8\n",
      "13\n",
      "21\n",
      "34\n"
     ]
    }
   ],
   "source": [
    "def fibonacci(n):\n",
    "    if(n <= 1):\n",
    "        return n\n",
    "    else:\n",
    "        return(fibonacci(n-1) + fibonacci(n-2))\n",
    "n = int(input(\"Enter number of terms:\"))\n",
    "print(\"Fibonacci sequence:\")\n",
    "for i in range(n):\n",
    "    print(fibonacci(i))"
   ]
  },
  {
   "cell_type": "markdown",
   "id": "d7a57f60",
   "metadata": {},
   "source": [
    "### 2. Write a Python Program to Find Factorial of Number Using Recursion?"
   ]
  },
  {
   "cell_type": "code",
   "execution_count": 3,
   "id": "d2dfd01d",
   "metadata": {},
   "outputs": [
    {
     "name": "stdout",
     "output_type": "stream",
     "text": [
      "Enter number:5\n",
      "Factorial:\n",
      "120\n"
     ]
    }
   ],
   "source": [
    "def factorial(n):\n",
    "    if(n <= 1):\n",
    "        return 1\n",
    "    else:\n",
    "        return(n*factorial(n-1))\n",
    "n = int(input(\"Enter number:\"))\n",
    "print(\"Factorial:\")\n",
    "print(factorial(n))"
   ]
  },
  {
   "cell_type": "markdown",
   "id": "0357b86f",
   "metadata": {},
   "source": [
    "### 3. Write a Python Program to calculate your Body Mass Index?"
   ]
  },
  {
   "cell_type": "code",
   "execution_count": 9,
   "id": "3e75828a",
   "metadata": {},
   "outputs": [
    {
     "name": "stdout",
     "output_type": "stream",
     "text": [
      "Enter the weight : 65\n",
      "Enter the height : 158\n",
      "Underweight\n"
     ]
    }
   ],
   "source": [
    "weight = int(input(\"Enter the weight : \"))\n",
    "height = float(input(\"Enter the height : \"))\n",
    "bmi = weight/float(height*height)\n",
    "if bmi < 18.5:\n",
    "    print('Underweight')\n",
    "if bmi>=18.5 and bmi<25:\n",
    "    print(\"Normal\")\n",
    "if bmi >= 25 and bmi < 30:\n",
    "   print('Overweight')\n",
    "if bmi >= 30:\n",
    "   print('Obesity')"
   ]
  },
  {
   "cell_type": "markdown",
   "id": "96d344a4",
   "metadata": {},
   "source": [
    "### 4. Write a Python Program to calculate the natural logarithm of any number?"
   ]
  },
  {
   "cell_type": "code",
   "execution_count": 16,
   "id": "fed6e084",
   "metadata": {},
   "outputs": [
    {
     "name": "stdout",
     "output_type": "stream",
     "text": [
      "Natural logarithm of 14 is :  2.6390573296152584\n",
      "Logarithm base 5 of 14 is :  1.6397385131955606\n"
     ]
    }
   ],
   "source": [
    "import math\n",
    " \n",
    "# Printing the log base e of 14\n",
    "print (\"Natural logarithm of 14 is : \", (math.log(14)))\n",
    "\n",
    "# Printing the log base 5 of 14\n",
    "print (\"Logarithm base 5 of 14 is : \", (math.log(14,5)))"
   ]
  },
  {
   "cell_type": "markdown",
   "id": "11c0d92c",
   "metadata": {},
   "source": [
    "\n",
    "### 5. Write a Python Program for cube sum of first n natural numbers?\n"
   ]
  },
  {
   "cell_type": "code",
   "execution_count": 17,
   "id": "16a18526",
   "metadata": {},
   "outputs": [
    {
     "name": "stdout",
     "output_type": "stream",
     "text": [
      "225\n"
     ]
    }
   ],
   "source": [
    "def sumOfSeries(n):\n",
    "    x = (n * (n + 1)  / 2)\n",
    "    return (int)(x * x)\n",
    "  \n",
    "# Driver Function\n",
    "n = 5\n",
    "print(sumOfSeries(n))"
   ]
  },
  {
   "cell_type": "code",
   "execution_count": null,
   "id": "0d248123",
   "metadata": {},
   "outputs": [],
   "source": []
  }
 ],
 "metadata": {
  "kernelspec": {
   "display_name": "Python 3 (ipykernel)",
   "language": "python",
   "name": "python3"
  },
  "language_info": {
   "codemirror_mode": {
    "name": "ipython",
    "version": 3
   },
   "file_extension": ".py",
   "mimetype": "text/x-python",
   "name": "python",
   "nbconvert_exporter": "python",
   "pygments_lexer": "ipython3",
   "version": "3.9.12"
  }
 },
 "nbformat": 4,
 "nbformat_minor": 5
}
