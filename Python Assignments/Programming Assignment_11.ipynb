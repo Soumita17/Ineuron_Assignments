{
 "cells": [
  {
   "cell_type": "markdown",
   "id": "53c7e882",
   "metadata": {},
   "source": [
    "# Python Basic Programming Assignment 11\n",
    "--------------------"
   ]
  },
  {
   "cell_type": "markdown",
   "id": "051da140",
   "metadata": {},
   "source": [
    "### 1. Write a Python program to find words which are greater than given length k?"
   ]
  },
  {
   "cell_type": "code",
   "execution_count": 1,
   "id": "f7ece597",
   "metadata": {},
   "outputs": [
    {
     "name": "stdout",
     "output_type": "stream",
     "text": [
      "Enter the string : My name is Soumita\n",
      "Enter k  (value for accepting string) : 6\n",
      "All words which are greater than given length  6 are  ['Soumita']\n"
     ]
    }
   ],
   "source": [
    "myStr =  input('Enter the string : ')\n",
    "k = int(input('Enter k  (value for accepting string) : '))\n",
    "largerStrings = []\n",
    "\n",
    "# Finding words with length greater than k\n",
    "words = myStr.split(\" \")\n",
    "for word in words:\n",
    "    if len(word) > k:\n",
    "        largerStrings.append(word)\n",
    "\n",
    "# printing values\n",
    "print(\"All words which are greater than given length \", k, \"are \", largerStrings)"
   ]
  },
  {
   "cell_type": "markdown",
   "id": "26719cbd",
   "metadata": {},
   "source": [
    "### 2. Write a Python program for removing i-th character from a string?"
   ]
  },
  {
   "cell_type": "code",
   "execution_count": 2,
   "id": "61e3fd1a",
   "metadata": {},
   "outputs": [
    {
     "name": "stdout",
     "output_type": "stream",
     "text": [
      "Enter the string : Soumita\n",
      "Enter the index of character to be removed : 5\n",
      "Entered string : Soumita\n",
      "String formed by removing i'th character : Soumia\n"
     ]
    }
   ],
   "source": [
    "myStr =  input('Enter the string : ')\n",
    "i = int(input('Enter the index of character to be removed : '))\n",
    "\n",
    "resStr = \"\"\n",
    "\n",
    "for index in range(len(myStr)):\n",
    "    if index != i:\n",
    "    resStr = resStr + myStr[index]\n",
    "\n",
    "# Printing all strings... \n",
    "print (\"Entered string : \" + myStr)\n",
    "print (\"String formed by removing i'th character : \" + resStr)"
   ]
  },
  {
   "cell_type": "markdown",
   "id": "51ae6b0f",
   "metadata": {},
   "source": [
    "### 3. Write a Python program to split and join a string?"
   ]
  },
  {
   "cell_type": "code",
   "execution_count": 3,
   "id": "1e39cce4",
   "metadata": {},
   "outputs": [
    {
     "name": "stdout",
     "output_type": "stream",
     "text": [
      "After Splitting:  ['Welcome', 'to', 'Ineuron', 'Full', 'Stack', 'Data', 'Analyst', 'Batch', '1']\n",
      "After joining:  Welcome-to-Ineuron-Full-Stack-Data-Analyst-Batch-1\n"
     ]
    }
   ],
   "source": [
    "def split_string(string):\n",
    "    # Splitting based on space delimiter\n",
    "    list_string = string.split(' ')\n",
    "    return list_string\n",
    "\n",
    "def join_string(list_string):\n",
    "    # Joining based on '-' delimiter\n",
    "    string = '-'.join(list_string)\n",
    "    return string\n",
    "\n",
    "string = 'Welcome to Ineuron Full Stack Data Analyst Batch 1'\n",
    "# Splitting a string\n",
    "list_string = split_string(string)\n",
    "print(\"After Splitting: \",list_string)\n",
    "\n",
    "# Join list of strings into one\n",
    "res_string = join_string(list_string)\n",
    "print(\"After joining: \",res_string)"
   ]
  },
  {
   "cell_type": "markdown",
   "id": "59079fe1",
   "metadata": {},
   "source": [
    "### 4. Write a Python to check if a given string is binary string or not?"
   ]
  },
  {
   "cell_type": "code",
   "execution_count": 4,
   "id": "f9b567a0",
   "metadata": {},
   "outputs": [
    {
     "name": "stdout",
     "output_type": "stream",
     "text": [
      "Binary String\n",
      "Non Binary String\n"
     ]
    }
   ],
   "source": [
    "def check(string) :\n",
    "    b = set(string)\n",
    "    s = {'0', '1'}\n",
    "    if s == b or b == {'0'} or b == {'1'}:\n",
    "        print(\"Binary String\")\n",
    "    else :\n",
    "        print(\"Non Binary String\")\n",
    "  \n",
    "s1= \"00110101\"\n",
    "# function calling\n",
    "check(s1)\n",
    "s2 = \"1010100200111\"\n",
    "check(s2)"
   ]
  },
  {
   "cell_type": "markdown",
   "id": "4d6cf11a",
   "metadata": {},
   "source": [
    "### 5. Write a Python program to find uncommon words from two Strings?"
   ]
  },
  {
   "cell_type": "code",
   "execution_count": 5,
   "id": "431c2ead",
   "metadata": {},
   "outputs": [
    {
     "name": "stdout",
     "output_type": "stream",
     "text": [
      "['am', 'Soumita', 'a', 'My', 'I', 'Batch', 'Name', 'of', 'is', 'FSDA', 'student']\n"
     ]
    }
   ],
   "source": [
    "def UncommonWords(A, B):\n",
    "    A=A.split()\n",
    "    B=B.split()\n",
    "    x=[]\n",
    "    for i in A:\n",
    "        if i not in B:\n",
    "            x.append(i)\n",
    "    for i in B:\n",
    "        if i not in A:\n",
    "            x.append(i)\n",
    "    x=list(set(x))\n",
    "    return x\n",
    "\n",
    "\n",
    "A = \"My Name is Soumita\"\n",
    "B = \"I am a student of FSDA Batch\"\n",
    " \n",
    "# Print required answer\n",
    "print(UncommonWords(A, B))"
   ]
  },
  {
   "cell_type": "markdown",
   "id": "e2b24677",
   "metadata": {},
   "source": [
    "### 6. Write a Python to find all duplicate characters in string?"
   ]
  },
  {
   "cell_type": "code",
   "execution_count": 13,
   "id": "4f1318eb",
   "metadata": {},
   "outputs": [
    {
     "name": "stdout",
     "output_type": "stream",
     "text": [
      "Duplicate characters in a given string: \n",
      "a  -  2\n",
      "m  -  2\n",
      "i  -  2\n"
     ]
    }
   ],
   "source": [
    "string = \"My name is Soumita\";\n",
    "    \n",
    "print(\"Duplicate characters in a given string: \");  \n",
    "for i in range(0, len(string)):  \n",
    "    count = 1;  \n",
    "    for j in range(i+1, len(string)):  \n",
    "        if(string[i] == string[j] and string[i] != ' '):  \n",
    "            count = count + 1;  \n",
    "            string = string[:j] + '0' + string[j+1:];  \n",
    "    \n",
    "    if(count > 1 and string[i] != '0'):  \n",
    "        print(string[i],\" - \",count);"
   ]
  },
  {
   "cell_type": "markdown",
   "id": "1a6af7e4",
   "metadata": {},
   "source": [
    "### 7. Write a Python Program to check if a string contains any special character?"
   ]
  },
  {
   "cell_type": "code",
   "execution_count": 14,
   "id": "c228d19d",
   "metadata": {},
   "outputs": [
    {
     "name": "stdout",
     "output_type": "stream",
     "text": [
      "Enter any string: Soumita@123\n",
      "The string contains special characters.\n"
     ]
    }
   ],
   "source": [
    "import re\n",
    "\n",
    "# take inputs\n",
    "string = input('Enter any string: ')\n",
    " \n",
    "# special characters\n",
    "special_char = re.compile('[@_!#$%^&*()<>?/\\|}{~:]')\n",
    "\n",
    "# check string contains special characters or not\n",
    "if(special_char.search(string) == None):\n",
    "    print('String does not contain any special characters.')\n",
    "else:\n",
    "    print('The string contains special characters.')"
   ]
  },
  {
   "cell_type": "code",
   "execution_count": null,
   "id": "b4df01c5",
   "metadata": {},
   "outputs": [],
   "source": []
  }
 ],
 "metadata": {
  "kernelspec": {
   "display_name": "Python 3 (ipykernel)",
   "language": "python",
   "name": "python3"
  },
  "language_info": {
   "codemirror_mode": {
    "name": "ipython",
    "version": 3
   },
   "file_extension": ".py",
   "mimetype": "text/x-python",
   "name": "python",
   "nbconvert_exporter": "python",
   "pygments_lexer": "ipython3",
   "version": "3.9.12"
  }
 },
 "nbformat": 4,
 "nbformat_minor": 5
}
