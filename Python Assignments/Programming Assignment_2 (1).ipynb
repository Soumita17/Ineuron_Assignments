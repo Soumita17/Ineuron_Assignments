{
 "cells": [
  {
   "cell_type": "markdown",
   "id": "08c66ea5",
   "metadata": {},
   "source": [
    "## Programming Assignment_2\n",
    "-------------"
   ]
  },
  {
   "cell_type": "markdown",
   "id": "4e50cf42",
   "metadata": {},
   "source": [
    "### 1. Write a Python program to convert kilometers to miles?\n"
   ]
  },
  {
   "cell_type": "code",
   "execution_count": 2,
   "id": "f85eccf6",
   "metadata": {},
   "outputs": [
    {
     "name": "stdout",
     "output_type": "stream",
     "text": [
      "Please enter the Kilometre as a unit: 7\n",
      "The value in Miles:  4.349597\n"
     ]
    }
   ],
   "source": [
    "km = float (input (\"Please enter the Kilometre as a unit: \"))  \n",
    "conversion_ratio = 0.621371  \n",
    "miles = km * conversion_ratio \n",
    "print (\"The value in Miles: \", miles)  "
   ]
  },
  {
   "cell_type": "markdown",
   "id": "0df4e6bf",
   "metadata": {},
   "source": [
    "### 2.Write a Python program to convert Celsius to Fahrenheit?"
   ]
  },
  {
   "cell_type": "code",
   "execution_count": 6,
   "id": "08719843",
   "metadata": {},
   "outputs": [
    {
     "name": "stdout",
     "output_type": "stream",
     "text": [
      "Please enter the celcius temp :40\n",
      "the temp in fahnrenheit is :  104.0\n"
     ]
    }
   ],
   "source": [
    "celcius = float(input(\"Please enter the celcius temp :\" ))\n",
    "fahrenheit = (celcius*9/5)+32\n",
    "print(\"the temp in fahnrenheit is : \", fahrenheit)"
   ]
  },
  {
   "cell_type": "markdown",
   "id": "46129b8e",
   "metadata": {},
   "source": [
    "### 3. Write a Python program to display calendar?\n"
   ]
  },
  {
   "cell_type": "code",
   "execution_count": 7,
   "id": "602a276b",
   "metadata": {},
   "outputs": [
    {
     "name": "stdout",
     "output_type": "stream",
     "text": [
      "Enter year: 1997\n",
      "Enter month: 11\n",
      "   November 1997\n",
      "Mo Tu We Th Fr Sa Su\n",
      "                1  2\n",
      " 3  4  5  6  7  8  9\n",
      "10 11 12 13 14 15 16\n",
      "17 18 19 20 21 22 23\n",
      "24 25 26 27 28 29 30\n",
      "\n"
     ]
    }
   ],
   "source": [
    "import calendar  \n",
    "# Enter the month and year  \n",
    "year = int(input(\"Enter year: \"))  \n",
    "month = int(input(\"Enter month: \"))  \n",
    "  \n",
    "# display the calendar  \n",
    "print(calendar.month(year,month))  "
   ]
  },
  {
   "cell_type": "markdown",
   "id": "db2bf0f7",
   "metadata": {},
   "source": [
    "### 4. Write a Python program to solve quadratic equation?"
   ]
  },
  {
   "cell_type": "code",
   "execution_count": 9,
   "id": "8fdf4062",
   "metadata": {},
   "outputs": [
    {
     "name": "stdout",
     "output_type": "stream",
     "text": [
      "Enter a: 6\n",
      "Enter b: 8\n",
      "Enter c: 10\n",
      "The solution are (-0.6666666666666666-1.1055415967851332j) and (-0.6666666666666666+1.1055415967851332j)\n"
     ]
    }
   ],
   "source": [
    "# import complex math module  \n",
    "import cmath  \n",
    "a = float(input('Enter a: '))  \n",
    "b = float(input('Enter b: '))  \n",
    "c = float(input('Enter c: '))  \n",
    "  \n",
    "# calculate the discriminant  \n",
    "d = (b**2) - (4*a*c)  \n",
    "  \n",
    "# find two solutions  \n",
    "sol1 = (-b-cmath.sqrt(d))/(2*a)  \n",
    "sol2 = (-b+cmath.sqrt(d))/(2*a)  \n",
    "print('The solution are {0} and {1}'.format(sol1,sol2))  "
   ]
  },
  {
   "cell_type": "markdown",
   "id": "f70f74c9",
   "metadata": {},
   "source": [
    "### 5. Write a Python program to swap two variables without temp variable?"
   ]
  },
  {
   "cell_type": "code",
   "execution_count": 10,
   "id": "58c87e26",
   "metadata": {},
   "outputs": [
    {
     "name": "stdout",
     "output_type": "stream",
     "text": [
      "Enter value of A: 6\n",
      "Enter value of B: 10\n",
      "A = 6 and B = 10\n",
      "Now, A = 10 and B = 6\n"
     ]
    }
   ],
   "source": [
    "a = int(input(\"Enter value of A: \"))\n",
    "b = int(input(\"Enter value of B: \"))\n",
    "print(\"A = {} and B = {}\".format(a, b))\n",
    "a = a + b\n",
    "b = a - b\n",
    "a = a - b\n",
    "print(\"Now, A = {} and B = {}\".format(a, b))"
   ]
  },
  {
   "cell_type": "code",
   "execution_count": null,
   "id": "88989001",
   "metadata": {},
   "outputs": [],
   "source": []
  }
 ],
 "metadata": {
  "kernelspec": {
   "display_name": "Python 3 (ipykernel)",
   "language": "python",
   "name": "python3"
  },
  "language_info": {
   "codemirror_mode": {
    "name": "ipython",
    "version": 3
   },
   "file_extension": ".py",
   "mimetype": "text/x-python",
   "name": "python",
   "nbconvert_exporter": "python",
   "pygments_lexer": "ipython3",
   "version": "3.9.12"
  }
 },
 "nbformat": 4,
 "nbformat_minor": 5
}
