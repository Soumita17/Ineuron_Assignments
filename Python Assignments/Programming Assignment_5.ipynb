{
 "cells": [
  {
   "cell_type": "markdown",
   "id": "4ac9602a",
   "metadata": {},
   "source": [
    "## Python Basic Programming Assignment - 5\n",
    "--------------\n"
   ]
  },
  {
   "cell_type": "markdown",
   "id": "fdaeee06",
   "metadata": {},
   "source": [
    "### 1. Write a Python Program to Find LCM?"
   ]
  },
  {
   "cell_type": "code",
   "execution_count": 1,
   "id": "ca3e60bd",
   "metadata": {},
   "outputs": [
    {
     "name": "stdout",
     "output_type": "stream",
     "text": [
      "Enter the first number:3\n",
      "Enter the second number:6\n",
      "LCM is: 6\n"
     ]
    }
   ],
   "source": [
    "a=int(input(\"Enter the first number:\"))\n",
    "b=int(input(\"Enter the second number:\"))\n",
    "if(a>b):\n",
    "    min1=a\n",
    "else:\n",
    "    min1=b\n",
    "while(1):\n",
    "    if(min1%a==0 and min1%b==0):\n",
    "        print(\"LCM is:\",min1)\n",
    "        break\n",
    "    min1=min1+1"
   ]
  },
  {
   "cell_type": "markdown",
   "id": "2f459cdf",
   "metadata": {},
   "source": [
    "### 2. Write a Python Program to Find HCF?"
   ]
  },
  {
   "cell_type": "code",
   "execution_count": 2,
   "id": "4c4daa7a",
   "metadata": {},
   "outputs": [
    {
     "name": "stdout",
     "output_type": "stream",
     "text": [
      "Enter first number :36\n",
      "Enter second number :12\n",
      "Hcf of 36 and 12 is 6\n"
     ]
    }
   ],
   "source": [
    "num1 = int(input(\"Enter first number :\"))\n",
    "num2 = int(input(\"Enter second number :\"))\n",
    "hcf = 1\n",
    "\n",
    "for i in range(1, min(num1, num2)):\n",
    "    if num1 % i == 0 and num2 % i == 0:\n",
    "        hcf = i\n",
    "print(\"Hcf of\", num1, \"and\", num2, \"is\", hcf)"
   ]
  },
  {
   "cell_type": "markdown",
   "id": "d2c29370",
   "metadata": {},
   "source": [
    "### 3. Write a Python Program to Convert Decimal to Binary, Octal and Hexadecimal?"
   ]
  },
  {
   "cell_type": "code",
   "execution_count": 3,
   "id": "6d015285",
   "metadata": {},
   "outputs": [
    {
     "name": "stdout",
     "output_type": "stream",
     "text": [
      "Enter an integer: 60\n",
      "The decimal value of 60 is:\n",
      "0b111100 in binary.\n",
      "0o74 in octal.\n",
      "0x3c in hexadecimal.\n"
     ]
    }
   ],
   "source": [
    "dec = int(input(\"Enter an integer: \"))\n",
    "print(\"The decimal value of\",dec,\"is:\")\n",
    "print(bin(dec),\"in binary.\")\n",
    "print(oct(dec),\"in octal.\")\n",
    "print(hex(dec),\"in hexadecimal.\")"
   ]
  },
  {
   "cell_type": "markdown",
   "id": "2a16c5fd",
   "metadata": {},
   "source": [
    "### 4. Write a Python Program To Find ASCII value of a character?"
   ]
  },
  {
   "cell_type": "code",
   "execution_count": 7,
   "id": "aa97543b",
   "metadata": {},
   "outputs": [
    {
     "name": "stdout",
     "output_type": "stream",
     "text": [
      "Enter the number whose ASCII code needs to be found: S\n",
      "The ASCII value of given character is 83\n"
     ]
    }
   ],
   "source": [
    "c = input (\"Enter the number whose ASCII code needs to be found: \")\n",
    "\n",
    "print (\"The ASCII value of given character is\", ord (c ))"
   ]
  },
  {
   "cell_type": "markdown",
   "id": "226778a0",
   "metadata": {},
   "source": [
    "### 5. Write a Python Program to Make a Simple Calculator with 4 basic mathematical operations?"
   ]
  },
  {
   "cell_type": "code",
   "execution_count": 12,
   "id": "6ec5352a",
   "metadata": {},
   "outputs": [
    {
     "name": "stdout",
     "output_type": "stream",
     "text": [
      "Enter first number :10\n",
      "Enter second number :5\n",
      "Addition of two numbers are :  15\n",
      "Subtraction of two numbers are :  5\n",
      "Multiplication of two numbers are :  50\n",
      "Division of two numbers are : 2.0\n"
     ]
    }
   ],
   "source": [
    "a = int(input(\"Enter first number :\"))\n",
    "b = int(input(\"Enter second number :\"))\n",
    "print(\"Addition of two numbers are : \",a+b)\n",
    "print(\"Subtraction of two numbers are : \",a-b)\n",
    "print(\"Multiplication of two numbers are : \",a*b)\n",
    "print(\"Division of two numbers are :\",a/b)\n"
   ]
  },
  {
   "cell_type": "code",
   "execution_count": null,
   "id": "24330ee9",
   "metadata": {},
   "outputs": [],
   "source": []
  }
 ],
 "metadata": {
  "kernelspec": {
   "display_name": "Python 3 (ipykernel)",
   "language": "python",
   "name": "python3"
  },
  "language_info": {
   "codemirror_mode": {
    "name": "ipython",
    "version": 3
   },
   "file_extension": ".py",
   "mimetype": "text/x-python",
   "name": "python",
   "nbconvert_exporter": "python",
   "pygments_lexer": "ipython3",
   "version": "3.9.12"
  }
 },
 "nbformat": 4,
 "nbformat_minor": 5
}
