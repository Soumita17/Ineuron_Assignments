{
 "cells": [
  {
   "cell_type": "markdown",
   "id": "47b9bb99",
   "metadata": {},
   "source": [
    "## Programming Assignment_9\n",
    "----------------"
   ]
  },
  {
   "cell_type": "markdown",
   "id": "c725f7a9",
   "metadata": {},
   "source": [
    "### 1. Write a Python program to check if the given number is a Disarium Number?"
   ]
  },
  {
   "cell_type": "code",
   "execution_count": 3,
   "id": "d66e487e",
   "metadata": {},
   "outputs": [
    {
     "name": "stdout",
     "output_type": "stream",
     "text": [
      "Enter the Number to Check Disarium Number = 135\n",
      "The Sum of the Digits = 135\n",
      "\n",
      "135 is a Disarium Number.\n"
     ]
    }
   ],
   "source": [
    "num = int(input(\"Enter the Number to Check Disarium Number = \"))\n",
    "length = len(str(num))\n",
    "\n",
    "Temp = num\n",
    "Sum = 0\n",
    "rem = 0\n",
    "\n",
    "while Temp > 0:\n",
    "    rem = Temp % 10\n",
    "    Sum = Sum + int(rem**length)\n",
    "    Temp = Temp // 10\n",
    "    length = length - 1\n",
    "\n",
    "print(\"The Sum of the Digits = %d\" %Sum)\n",
    "\n",
    "if Sum == num:\n",
    "    print(\"\\n%d is a Disarium Number.\" %num)\n",
    "else:\n",
    "    print(\"%d is Not a Disarium Number.\" %num)"
   ]
  },
  {
   "cell_type": "markdown",
   "id": "f0064401",
   "metadata": {},
   "source": [
    "### 2. Write a Python program to print all disarium numbers between 1 to 100?"
   ]
  },
  {
   "cell_type": "code",
   "execution_count": 4,
   "id": "d00caae0",
   "metadata": {},
   "outputs": [
    {
     "name": "stdout",
     "output_type": "stream",
     "text": [
      "Disarium no in range 1 to 100\n",
      "[1, 2, 3, 4, 5, 6, 7, 8, 9, 89]\n"
     ]
    }
   ],
   "source": [
    "def Disarium(num):\n",
    "    sum = 0\n",
    "    while(num>0):\n",
    "        l= len(str(num))\n",
    "        no = num%10\n",
    "        sum= sum + no**l   \n",
    "        l-=1\n",
    "        num = num//10\n",
    "    return sum\n",
    "\n",
    "print(\"Disarium no in range 1 to 100\")\n",
    "\n",
    "disno = []\n",
    "\n",
    "for i in range(1,101):\n",
    "    sum = 0\n",
    "    sum = Disarium(i)\n",
    "    if sum == i:\n",
    "        disno.append(i)        \n",
    "print(disno)"
   ]
  },
  {
   "cell_type": "markdown",
   "id": "31df1e4a",
   "metadata": {},
   "source": [
    "### 3. Write a Python program to check if the given number is Happy Number?"
   ]
  },
  {
   "cell_type": "code",
   "execution_count": 7,
   "id": "520e73ca",
   "metadata": {},
   "outputs": [
    {
     "name": "stdout",
     "output_type": "stream",
     "text": [
      "Enter the number :111\n",
      "111  Is a Unhappy Number\n"
     ]
    }
   ],
   "source": [
    "def Happy(num):\n",
    "    sum = 0\n",
    "    while(num>0):\n",
    "        dig = num%10\n",
    "        sum= sum + dig**2        \n",
    "        num = num//10\n",
    "    return sum\n",
    "\n",
    "num = int(input(\"Enter the number :\"))\n",
    "result = num\n",
    "\n",
    "\n",
    "while (result != 1 and result != 4):\n",
    "    result = Happy(result)\n",
    "\n",
    "if result == 1:\n",
    "    print(num,\"Is a Happy Number\")\n",
    "else:\n",
    "    print(num,\" Is a Unhappy Number\")\n",
    "   #A number is said to be happy if it yields 1 when replaced by the sum of squares of its digits repeatedly.\n",
    "   # If this process results in an endless cycle of numbers containing 4, then the number will be an unhappy number. "
   ]
  },
  {
   "cell_type": "markdown",
   "id": "51b265e3",
   "metadata": {},
   "source": [
    "### 4. Write a Python program to print all happy numbers between 1 and 100?"
   ]
  },
  {
   "cell_type": "code",
   "execution_count": 8,
   "id": "4fe8b199",
   "metadata": {},
   "outputs": [
    {
     "name": "stdout",
     "output_type": "stream",
     "text": [
      "Happy numbers in range 1 to 100\n",
      "[1, 7, 10, 13, 19, 23, 28, 31, 32, 44, 49, 68, 70, 79, 82, 86, 91, 94, 97, 100]\n"
     ]
    }
   ],
   "source": [
    "def Happy(num):\n",
    "    sum = 0\n",
    "    while(num>0):\n",
    "        dig = num%10\n",
    "        sum= sum + dig**2        \n",
    "        num = num//10\n",
    "    return sum\n",
    "\n",
    "print(\"Happy numbers in range 1 to 100\")\n",
    "result=num=i=0\n",
    "happyNo = []\n",
    "for i in range(1,101):\n",
    "    result = i\n",
    "    while (result != 1 and result != 4):\n",
    "        result = Happy(result)    \n",
    "    if result == 1:\n",
    "        happyNo.append(i)\n",
    "print(happyNo)"
   ]
  },
  {
   "cell_type": "markdown",
   "id": "6a190ee0",
   "metadata": {},
   "source": [
    "### 5. Write a Python program to determine whether the given number is a Harshad Number?"
   ]
  },
  {
   "cell_type": "code",
   "execution_count": 10,
   "id": "a810cdc9",
   "metadata": {},
   "outputs": [
    {
     "name": "stdout",
     "output_type": "stream",
     "text": [
      "Enter no. :12\n",
      "12 Is a Harshad number\n"
     ]
    }
   ],
   "source": [
    "def digsum(num):\n",
    "    sum = 0\n",
    "    while(num>0):\n",
    "        dig = num%10\n",
    "        sum= sum + dig      \n",
    "        num = num//10\n",
    "    return sum\n",
    "\n",
    "num = int(input(\"Enter no. :\"))\n",
    "sum = digsum(num)\n",
    "\n",
    "if num % sum == 0:\n",
    "    print(num,\"Is a Harshad number\")\n",
    "else:\n",
    "    print(num,\"Is not a Harshad number\")\n",
    "\n",
    "#if a number is divisible by the sum of its digits, then it will be known as a Harshad Number"
   ]
  },
  {
   "cell_type": "markdown",
   "id": "7a7ea92e",
   "metadata": {},
   "source": [
    "### 6. Write a Python program to print all pronic numbers between 1 and 100?"
   ]
  },
  {
   "cell_type": "code",
   "execution_count": 11,
   "id": "251ba502",
   "metadata": {},
   "outputs": [
    {
     "name": "stdout",
     "output_type": "stream",
     "text": [
      "Pronic numbers in range 1 to 100\n",
      "[2, 6, 12, 20, 30, 42, 56, 72, 90]\n"
     ]
    }
   ],
   "source": [
    "def PronicNo(num):\n",
    "    Pronic = False\n",
    "    for i in range(1,num+1):\n",
    "        if i*(i+1) == num:\n",
    "            Pronic = True\n",
    "            break\n",
    "    return Pronic\n",
    "\n",
    "print(\"Pronic numbers in range 1 to 100\")\n",
    "pronicno = []\n",
    "for i in range(1,101):\n",
    "    if PronicNo(i):\n",
    "        pronicno.append(i)\n",
    "print(pronicno)"
   ]
  },
  {
   "cell_type": "code",
   "execution_count": null,
   "id": "2a0c82d6",
   "metadata": {},
   "outputs": [],
   "source": []
  }
 ],
 "metadata": {
  "kernelspec": {
   "display_name": "Python 3 (ipykernel)",
   "language": "python",
   "name": "python3"
  },
  "language_info": {
   "codemirror_mode": {
    "name": "ipython",
    "version": 3
   },
   "file_extension": ".py",
   "mimetype": "text/x-python",
   "name": "python",
   "nbconvert_exporter": "python",
   "pygments_lexer": "ipython3",
   "version": "3.9.12"
  }
 },
 "nbformat": 4,
 "nbformat_minor": 5
}
